{
 "cells": [
  {
   "cell_type": "markdown",
   "metadata": {
    "tags": [
     "AST"
    ]
   },
   "source": [
    "<style>\n",
    "    @media print{\n",
    "        body {\n",
    "            position:relative !important;\n",
    "        }\n",
    "        .celltag_new_page {\n",
    "            page-break-before: always !important;\n",
    "        }\n",
    "    }\n",
    "</style>\n",
    "# COMPSCI 371D Homework 1"
   ]
  },
  {
   "cell_type": "markdown",
   "metadata": {
    "tags": [
     "AT"
    ]
   },
   "source": [
    "### Problem 0 (3 points)"
   ]
  },
  {
   "cell_type": "markdown",
   "metadata": {
    "tags": [
     "AST"
    ]
   },
   "source": [
    "## Part 1: Sets and Functions "
   ]
  },
  {
   "cell_type": "markdown",
   "metadata": {
    "tags": [
     "AST"
    ]
   },
   "source": [
    "### Problem 1.1 (Exam Style)"
   ]
  },
  {
   "cell_type": "markdown",
   "metadata": {
    "tags": [
     "AT"
    ]
   },
   "source": [
    "$$\n",
    "\\begin{array}{|c|c|c|c|c|c|c|c|}\n",
    "\t\\hline\n",
    "\t\\mbox{Domain} & \\mbox{Codomain} & \\mbox{Map} & \\mbox{Function?} & \\mbox{Injection?} & \\mbox{Surjection?} & \\mbox{Bijection?}\n",
    "\t& \\mbox{None of these} \\\\\\hline\n",
    "\t\\{1, 2\\} & \\{a, b\\} & \\{(1, a), (1, b)\\} & No & No & No & No & Yes \\\\\\hline\n",
    "\t\\{1, 2\\} & \\{a, b\\} & \\{(1, a), (2, a)\\} & Yes & No & No & No & \\\\\\hline\n",
    "\t\\{1, 2\\} & \\{a, b\\} & \\{(1, b), (2, a)\\} & Yes & Yes & Yes & Yes & \\\\\\hline\n",
    "\t\\{1, 2\\} & \\{a, b, c\\} & \\{(2, a), (1, c)\\} & Yes & Yes & No & No & \\\\\\hline\n",
    "\t\\{1, 2\\} & \\{b\\} & \\{(1, b), (2, b)\\} & Yes & No & Yes & No & \\\\\\hline\n",
    "\\end{array}\n",
    "$$"
   ]
  },
  {
   "cell_type": "markdown",
   "metadata": {
    "tags": [
     "AST"
    ]
   },
   "source": [
    "### Problem 1.2 (Exam Style)"
   ]
  },
  {
   "cell_type": "markdown",
   "metadata": {},
   "source": [
    "$$n(a,b) = {ab \\choose ab} + {ab \\choose ab-1} + ... + {ab \\choose 1} = 2^{ab}-1$$"
   ]
  },
  {
   "cell_type": "markdown",
   "metadata": {},
   "source": [
    "$$n(3,3) = 511 $$"
   ]
  },
  {
   "cell_type": "markdown",
   "metadata": {},
   "source": [
    "$$n(2,4) = 255 $$"
   ]
  },
  {
   "cell_type": "markdown",
   "metadata": {},
   "source": [
    "$$n(5,3) = 32767 $$"
   ]
  },
  {
   "cell_type": "markdown",
   "metadata": {
    "tags": [
     "AST"
    ]
   },
   "source": [
    "### Problem 1.3 (Exam Style)"
   ]
  },
  {
   "cell_type": "markdown",
   "metadata": {},
   "source": [
    "$$n(a,b) = {b \\choose 1} ^a = b^a$$"
   ]
  },
  {
   "cell_type": "markdown",
   "metadata": {},
   "source": [
    "$$n(3,3) = 27$$"
   ]
  },
  {
   "cell_type": "markdown",
   "metadata": {},
   "source": [
    "$$n(2,4) = 16 $$"
   ]
  },
  {
   "cell_type": "markdown",
   "metadata": {},
   "source": [
    "$$n(5,3) = 243 $$"
   ]
  },
  {
   "cell_type": "markdown",
   "metadata": {
    "tags": [
     "AST"
    ]
   },
   "source": [
    "### Problem 1.4 (Exam Style)"
   ]
  },
  {
   "cell_type": "markdown",
   "metadata": {},
   "source": [
    "$$a = b$$"
   ]
  },
  {
   "cell_type": "markdown",
   "metadata": {},
   "source": [
    "$$n(a,b) = a!$$"
   ]
  },
  {
   "cell_type": "markdown",
   "metadata": {},
   "source": [
    "$$n(4,4) = 24 $$"
   ]
  },
  {
   "cell_type": "markdown",
   "metadata": {},
   "source": [
    "$$n(2,4) =  0 $$"
   ]
  },
  {
   "cell_type": "markdown",
   "metadata": {},
   "source": [
    "$$n(5,3) = 0 $$"
   ]
  },
  {
   "cell_type": "markdown",
   "metadata": {
    "tags": [
     "AST"
    ]
   },
   "source": [
    "### Problem 1.5 (Exam Style)"
   ]
  },
  {
   "cell_type": "markdown",
   "metadata": {},
   "source": [
    "$$\\text{distinct training sets of N samples} = {m \\choose n}2^n$$"
   ]
  },
  {
   "cell_type": "markdown",
   "metadata": {},
   "source": [
    "$$\\text{When} N = 5, M =8 \\text{ there are } 1792 \\text{ distinct training sets of N samples.} $$"
   ]
  },
  {
   "cell_type": "markdown",
   "metadata": {
    "tags": [
     "AST"
    ]
   },
   "source": [
    "## Part 2: Fitting Banded Linear Transformations "
   ]
  },
  {
   "cell_type": "markdown",
   "metadata": {
    "tags": [
     "AST"
    ]
   },
   "source": [
    "### Problem 2.1"
   ]
  },
  {
   "cell_type": "code",
   "execution_count": 2,
   "metadata": {
    "tags": [
     "AST"
    ]
   },
   "outputs": [],
   "source": [
    "from urllib.request import urlretrieve\n",
    "from os import path as osp\n",
    "\n",
    "\n",
    "def retrieve(file_name, semester='fall21', course='371d', homework=1):\n",
    "    if osp.exists(file_name):\n",
    "        print('Using previously downloaded file {}'.format(file_name))\n",
    "    else:\n",
    "        fmt = 'https://www2.cs.duke.edu/courses/{}/compsci{}/homework/{}/{}'\n",
    "        url = fmt.format(semester, course, homework, file_name)\n",
    "        urlretrieve(url, file_name)\n",
    "        print('Downloaded file {}'.format(file_name))\n"
   ]
  },
  {
   "cell_type": "code",
   "execution_count": 3,
   "metadata": {
    "tags": [
     "AST"
    ]
   },
   "outputs": [],
   "source": [
    "import pickle\n",
    "\n",
    "\n",
    "def read_data(file_name):\n",
    "    retrieve(file_name)\n",
    "    with open(file_name, 'rb') as file:\n",
    "        d = pickle.load(file)\n",
    "    return d"
   ]
  },
  {
   "cell_type": "code",
   "execution_count": 4,
   "metadata": {
    "scrolled": true,
    "tags": [
     "AST"
    ]
   },
   "outputs": [
    {
     "name": "stdout",
     "output_type": "stream",
     "text": [
      "Using previously downloaded file training.pkl\n",
      "Using previously downloaded file test.pkl\n"
     ]
    }
   ],
   "source": [
    "data = {data_set: read_data('{}.pkl'.format(data_set))\n",
    "        for data_set in ('training', 'test')}"
   ]
  },
  {
   "cell_type": "code",
   "execution_count": 5,
   "metadata": {
    "tags": [
     "AST"
    ]
   },
   "outputs": [],
   "source": [
    "x_tr, y_tr = data['training']['x'], data['training']['y']"
   ]
  },
  {
   "cell_type": "code",
   "execution_count": 6,
   "metadata": {
    "tags": [
     "AST"
    ]
   },
   "outputs": [],
   "source": [
    "import numpy as np\n",
    "\n",
    "\n",
    "def solve_system(u, v):\n",
    "    return np.linalg.lstsq(u, v, rcond=None)[0]"
   ]
  },
  {
   "cell_type": "code",
   "execution_count": 7,
   "metadata": {
    "tags": [
     "AST"
    ]
   },
   "outputs": [],
   "source": [
    "h = solve_system(x_tr, y_tr)"
   ]
  },
  {
   "cell_type": "code",
   "execution_count": 8,
   "metadata": {
    "tags": [
     "AST"
    ]
   },
   "outputs": [],
   "source": [
    "def residual(h, x, y):\n",
    "    diff = np.dot(x, h) - y\n",
    "    r = np.linalg.norm(diff) / np.sqrt(x.size)\n",
    "    return r"
   ]
  },
  {
   "cell_type": "code",
   "execution_count": 9,
   "metadata": {
    "tags": [
     "AST"
    ]
   },
   "outputs": [],
   "source": [
    "def diagonal_indicator(d, bandwidth):\n",
    "    ind = np.zeros((d, d))\n",
    "    for k in range(-bandwidth, bandwidth + 1):\n",
    "        length = d - np.abs(k)\n",
    "        ones = np.ones(length)\n",
    "        ind += np.diag(ones, k=k)\n",
    "    return ind.astype(bool)"
   ]
  },
  {
   "cell_type": "code",
   "execution_count": 10,
   "metadata": {
    "tags": [
     "AST"
    ]
   },
   "outputs": [],
   "source": [
    "def un_flatten_solution(h_flat, d, bandwidth):\n",
    "    indicator = diagonal_indicator(d, bandwidth)\n",
    "    h = np.zeros(d * d)\n",
    "    h[indicator.ravel()] = h_flat\n",
    "    h = np.reshape(h, (d, d))\n",
    "    return h"
   ]
  },
  {
   "cell_type": "code",
   "execution_count": 11,
   "metadata": {},
   "outputs": [],
   "source": [
    "def flatten_system(x, y, bandwidth):\n",
    "    y_flat = y.flatten()\n",
    "    d = x.shape[1]\n",
    "    A = np.kron(x, np.eye(d))\n",
    "    flat_ind = diagonal_indicator(d,bandwidth).ravel()\n",
    "    columns = np.arange(0,len(flat_ind))[flat_ind]\n",
    "    A_c = A[:,columns]\n",
    "    return A_c, y_flat"
   ]
  },
  {
   "cell_type": "code",
   "execution_count": 12,
   "metadata": {},
   "outputs": [],
   "source": [
    "def fit_banded_matrix(x,y_o,bandwidth):\n",
    "    A, y = flatten_system(x,y_o,bandwidth)\n",
    "    h = un_flatten_solution(solve_system(A, y),x.shape[1],bandwidth)\n",
    "    return h"
   ]
  },
  {
   "cell_type": "code",
   "execution_count": 13,
   "metadata": {
    "scrolled": true
   },
   "outputs": [
    {
     "data": {
      "image/png": "[encoded data removed]",
      "text/plain": [
       "<Figure size 432x288 with 1 Axes>"
      ]
     },
     "metadata": {
      "needs_background": "light"
     },
     "output_type": "display_data"
    }
   ],
   "source": [
    "from matplotlib import pyplot as plt\n",
    "%matplotlib inline\n",
    "\n",
    "residuals = []\n",
    "for b in range(11):\n",
    "    residuals.append(residual(fit_banded_matrix(x_tr, y_tr,b),x_tr, y_tr))\n",
    "\n",
    "plt.plot(np.arange(0,11),residuals)\n",
    "plt.xlabel(\"bandwidths\")\n",
    "plt.ylabel(\"residuals\")\n",
    "plt.show()"
   ]
  },
  {
   "cell_type": "markdown",
   "metadata": {
    "tags": [
     "AST"
    ]
   },
   "source": [
    "### Problem 2.2 (Exam Style)"
   ]
  },
  {
   "cell_type": "markdown",
   "metadata": {},
   "source": [
    "We can prove by contradiction that residuals must be weakly decreasing with respect to increasing bandwidths:\n",
    "1. Assume towards contradiction that there exist bandwidths b and b' such that 0 <= b < b'; and that there exist residuals of prediction matrices with bandwidths of b and b' called r(b) and r(b') correspondingly, such that r(b) < r(b'). \n",
    "2. The hypothesis space of b (the set of banded dxd matrices with bandwidth b) forms a filtration in b, such that the hypothesis space of smaller b's are contained in the hypothesis space of larger b's. \n",
    "3. If a prediction matrix with a bandwidth of b has a lower residual than that with b', it must also be contained in the hypothesis space of b', resulting in discovering a r(b') that is equal to r(b). Therefore, it is not possible for r(b') > r(b). It must be the case that r(b) >= r(b').\n"
   ]
  },
  {
   "cell_type": "markdown",
   "metadata": {
    "tags": [
     "AST"
    ]
   },
   "source": [
    "## Part 3: Learning Banded Linear Transformations "
   ]
  },
  {
   "cell_type": "markdown",
   "metadata": {
    "tags": [
     "AST"
    ]
   },
   "source": [
    "### Problem 3.1"
   ]
  },
  {
   "cell_type": "code",
   "execution_count": 14,
   "metadata": {
    "tags": [
     "AST"
    ]
   },
   "outputs": [
    {
     "data": {
      "image/png": "[encoded data removed]",
      "text/plain": [
       "<Figure size 432x288 with 1 Axes>"
      ]
     },
     "metadata": {
      "needs_background": "light"
     },
     "output_type": "display_data"
    }
   ],
   "source": [
    "x_ts, y_ts = data['test']['x'], data['test']['y']\n",
    "\n",
    "residuals_tr=[]\n",
    "residuals_ts=[]\n",
    "for b in range(11):\n",
    "    H = fit_banded_matrix(x_tr, y_tr,b)\n",
    "    residuals_tr.append(residual(H, x_tr, y_tr))\n",
    "    residuals_ts.append(residual(H, x_ts, y_ts))\n",
    "\n",
    "plt.plot(np.arange(0,11),residuals_tr)\n",
    "plt.plot(np.arange(0,11),residuals_ts)\n",
    "plt.xlabel(\"bandwidths\")\n",
    "plt.ylabel(\"residuals\")\n",
    "plt.legend([\"training\", \"testing\"])\n",
    "plt.show()"
   ]
  },
  {
   "cell_type": "markdown",
   "metadata": {
    "tags": [
     "AST"
    ]
   },
   "source": [
    "### Problem 3.2 (Exam Style)"
   ]
  },
  {
   "cell_type": "markdown",
   "metadata": {},
   "source": [
    "Bandwidth of 3 would be the best. While the residuals for the training set keep decreasing for increased bandwidths beyond 3, the residuals for the testing set start to increase after a bandwidth of 3. At a bandwidths of 3, the prediction matrix yields the lowest residuals for the testing set, which means that 3 would be the best bandwidth for this case."
   ]
  }
 ],
 "metadata": {
  "kernelspec": {
   "display_name": "Python 3",
   "language": "python",
   "name": "python3"
  },
  "language_info": {
   "codemirror_mode": {
    "name": "ipython",
    "version": 3
   },
   "file_extension": ".py",
   "mimetype": "text/x-python",
   "name": "python",
   "nbconvert_exporter": "python",
   "pygments_lexer": "ipython3",
   "version": "3.8.5"
  },
  "pycharm": {
   "stem_cell": {
    "cell_type": "raw",
    "metadata": {
     "collapsed": false
    },
    "source": []
   }
  }
 },
 "nbformat": 4,
 "nbformat_minor": 2
}
