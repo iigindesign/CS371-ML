{
 "cells": [
  {
   "cell_type": "markdown",
   "metadata": {
    "tags": [
     "AST"
    ]
   },
   "source": [
    "<style>\n",
    "    @media print{\n",
    "        body {\n",
    "            position:relative !important;\n",
    "        }\n",
    "        .celltag_new_page {\n",
    "            page-break-before: always !important;\n",
    "        }\n",
    "    }\n",
    "</style>\n",
    "# COMPSCI 371D Homework 6"
   ]
  },
  {
   "cell_type": "markdown",
   "metadata": {
    "tags": [
     "AT"
    ]
   },
   "source": [
    "### Problem 0 (3 points)"
   ]
  },
  {
   "cell_type": "markdown",
   "metadata": {
    "tags": [
     "AST"
    ]
   },
   "source": [
    "## Preamble: The MNIST Dataset  "
   ]
  },
  {
   "cell_type": "code",
   "execution_count": 24,
   "metadata": {
    "tags": [
     "AST"
    ]
   },
   "outputs": [],
   "source": [
    "import numpy as np\n",
    "from sklearn import datasets\n",
    "from sklearn.model_selection import train_test_split\n",
    "from sklearn.preprocessing import StandardScaler\n",
    "from matplotlib import pyplot as plt\n",
    "%matplotlib inline"
   ]
  },
  {
   "cell_type": "code",
   "execution_count": 25,
   "metadata": {
    "tags": [
     "AST"
    ]
   },
   "outputs": [],
   "source": [
    "def standardize(data):\n",
    "    scaler = StandardScaler().fit(data)\n",
    "    data = scaler.transform(data).astype(np.float32)\n",
    "    return data, scaler.mean_, scaler.scale_"
   ]
  },
  {
   "cell_type": "code",
   "execution_count": 26,
   "metadata": {
    "tags": [
     "AST"
    ]
   },
   "outputs": [],
   "source": [
    "def load_mnist():\n",
    "    digits = datasets.load_digits()\n",
    "    n, shape = digits.images.shape[0], digits.images.shape[1:]\n",
    "    xs = digits.images.reshape((n, -1)).astype(np.float32)\n",
    "    max_pixel = np.max(xs)\n",
    "    xs, mean, std = standardize(xs)\n",
    "    ys = digits.target.astype(np.uint8)\n",
    "    return xs, ys, mean, std, max_pixel, shape"
   ]
  },
  {
   "cell_type": "code",
   "execution_count": 27,
   "metadata": {
    "tags": [
     "AST"
    ]
   },
   "outputs": [],
   "source": [
    "def data_split(xs, ys, test_fraction=0.5):\n",
    "    x_train, x_test, y_train, y_test = train_test_split(\n",
    "        xs, ys, test_size=test_fraction, shuffle=True)\n",
    "    train = {'x': x_train, 'y': y_train}\n",
    "    test = {'x': x_test, 'y': y_test}\n",
    "    data = {'train': train, 'test': test}\n",
    "    return data"
   ]
  },
  {
   "cell_type": "code",
   "execution_count": 28,
   "metadata": {
    "tags": [
     "AST"
    ]
   },
   "outputs": [],
   "source": [
    "def x_to_image(x):\n",
    "    x = np.round(x * pixel_std + pixel_mean)\n",
    "    x = np.clip(x * 255. / pixel_max, 0., 255.).astype(np.uint8)\n",
    "    return np.reshape(x, image_shape)"
   ]
  },
  {
   "cell_type": "code",
   "execution_count": 29,
   "metadata": {
    "tags": [
     "AST"
    ]
   },
   "outputs": [],
   "source": [
    "def show_random_images(xs, ys, rows=3, columns=6):\n",
    "    rng = np.random.default_rng()\n",
    "    indices = rng.integers(low=0, high=len(ys), size=rows * columns)\n",
    "    plt.figure(figsize=(2 * columns, 2.1 * rows), tight_layout=True)\n",
    "    for plot, index in enumerate(indices):\n",
    "        image = x_to_image(xs[index])\n",
    "        plt.subplot(rows, columns, plot + 1)\n",
    "        plt.imshow(image, cmap='gray')\n",
    "        plt.axis('off')\n",
    "        plt.title(ys[index], fontsize=18)\n",
    "    plt.show()"
   ]
  },
  {
   "cell_type": "code",
   "execution_count": 30,
   "metadata": {
    "tags": [
     "AST"
    ]
   },
   "outputs": [
    {
     "data": {
      "image/png": "[encoded data removed]",
      "text/plain": [
       "<Figure size 864x453.6 with 18 Axes>"
      ]
     },
     "metadata": {
      "needs_background": "light"
     },
     "output_type": "display_data"
    }
   ],
   "source": [
    "data_points, digit_labels, pixel_mean, pixel_std, pixel_max, image_shape = load_mnist()\n",
    "show_random_images(data_points, digit_labels)\n",
    "digit_dataset = data_split(data_points, digit_labels)"
   ]
  },
  {
   "cell_type": "markdown",
   "metadata": {
    "tags": [
     "AST"
    ]
   },
   "source": [
    "## Preamble: Three Classifiers"
   ]
  },
  {
   "cell_type": "code",
   "execution_count": 31,
   "metadata": {
    "tags": [
     "AST"
    ]
   },
   "outputs": [],
   "source": [
    "from sklearn.linear_model import LogisticRegression\n",
    "from sklearn.svm import SVC\n",
    "\n",
    "tolerance = 1.e-8\n",
    "LogReg = LogisticRegression(\n",
    "    C=1, solver='lbfgs', tol=tolerance,\n",
    "    max_iter=100000, random_state=0)\n",
    "LinearSvm = SVC(kernel='linear', tol=tolerance)\n",
    "RbfSvm = SVC(kernel='rbf', tol=tolerance)\n",
    "classify = [LogReg, LinearSvm, RbfSvm]\n",
    "classify_string = [\"Logistic Regression\", \"Linear SVM\", \"Rbf SVM\"]"
   ]
  },
  {
   "cell_type": "markdown",
   "metadata": {
    "tags": [
     "AST"
    ]
   },
   "source": [
    "## Part 1: Binary Classifiers"
   ]
  },
  {
   "cell_type": "markdown",
   "metadata": {
    "tags": [
     "AST"
    ]
   },
   "source": [
    "### Problem 1.1"
   ]
  },
  {
   "cell_type": "code",
   "execution_count": 32,
   "metadata": {
    "tags": [
     "AST"
    ]
   },
   "outputs": [],
   "source": [
    "def evaluate(h, data):\n",
    "    def error_rate(predictor, samples):\n",
    "        x, y = samples['x'], samples['y']\n",
    "        return (1 - predictor.score(x, y)) * 100\n",
    "\n",
    "    e_train = error_rate(h, data['train'])\n",
    "    e_test = error_rate(h, data['test'])\n",
    "    return e_train, e_test"
   ]
  },
  {
   "cell_type": "code",
   "execution_count": 85,
   "metadata": {},
   "outputs": [],
   "source": [
    "def evaluate_classifiers(xs,ys):\n",
    "    for j, f in enumerate(classify):\n",
    "        train_eval, test_eval = np.zeros(10),np.zeros(10)\n",
    "        for i in range(10):\n",
    "            sets = data_split(xs, ys)\n",
    "            train_eval[i], test_eval[i] = evaluate(f.fit(sets[\"train\"][\"x\"], sets[\"train\"][\"y\"]), sets)\n",
    "        print(\"\\n Error statistics for the \" + classify_string[j] + \" classifier (percent):\")\n",
    "        print(\"Training: min \" + str(round(np.min(train_eval),3)) \n",
    "              + \" max \" + str(round(np.max(train_eval),3))\n",
    "              + \" mean \" + str(round(np.mean(train_eval),3))\n",
    "              + \" std \" + str(round(np.std(train_eval),3)))"
   ]
  },
  {
   "cell_type": "code",
   "execution_count": 78,
   "metadata": {},
   "outputs": [],
   "source": [
    "pair_labels = digit_labels[(digit_labels == 3) | (digit_labels == 7)]\n",
    "pair_data_points = data_points[(digit_labels==3) | (digit_labels == 7)]"
   ]
  },
  {
   "cell_type": "code",
   "execution_count": 86,
   "metadata": {},
   "outputs": [
    {
     "name": "stdout",
     "output_type": "stream",
     "text": [
      "\n",
      " Error statistics for the Logistic Regression classifier (percent):\n",
      "Training: min 0.0 max 0.0 std 0.0\n",
      "\n",
      " Error statistics for the Linear SVM classifier (percent):\n",
      "Training: min 0.0 max 0.0 std 0.0\n",
      "\n",
      " Error statistics for the Rbf SVM classifier (percent):\n",
      "Training: min 0.0 max 0.0 std 0.0\n"
     ]
    }
   ],
   "source": [
    "evaluate_classifiers(pair_data_points, pair_labels)"
   ]
  },
  {
   "cell_type": "markdown",
   "metadata": {
    "tags": [
     "AST"
    ]
   },
   "source": [
    "### Problem 1.2 (Exam Style)"
   ]
  },
  {
   "cell_type": "markdown",
   "metadata": {
    "tags": [
     "AST"
    ]
   },
   "source": [
    "### Problem 1.3 (Exam Style)"
   ]
  },
  {
   "cell_type": "markdown",
   "metadata": {
    "tags": [
     "AST"
    ]
   },
   "source": [
    "### Problem 1.4"
   ]
  },
  {
   "cell_type": "markdown",
   "metadata": {
    "tags": [
     "AST"
    ]
   },
   "source": [
    "### Problem 1.5 (Exam Style)"
   ]
  },
  {
   "cell_type": "markdown",
   "metadata": {
    "tags": [
     "AST"
    ]
   },
   "source": [
    "### Problem 1.6 (Exam Style)"
   ]
  },
  {
   "cell_type": "markdown",
   "metadata": {
    "tags": [
     "AST"
    ]
   },
   "source": [
    "## Part 2: Margins "
   ]
  },
  {
   "cell_type": "code",
   "execution_count": null,
   "metadata": {
    "tags": [
     "AST"
    ]
   },
   "outputs": [],
   "source": [
    "def hyperplane(h):\n",
    "    return h.intercept_, h.coef_[0]"
   ]
  },
  {
   "cell_type": "markdown",
   "metadata": {
    "tags": [
     "AST"
    ]
   },
   "source": [
    "### Problem 2.1"
   ]
  },
  {
   "cell_type": "code",
   "execution_count": null,
   "metadata": {
    "tags": [
     "AST"
    ]
   },
   "outputs": [],
   "source": [
    "def show_margins(m, ref_margin, title, font_size=18):\n",
    "    plt.figure(figsize=(15, 3), tight_layout=True)\n",
    "    edges = np.logspace(-2, np.log10(max(m)), 50)\n",
    "    plt.hist(m, bins=edges, rwidth=0.9)\n",
    "    plt.axvline(ref_margin, color='r', lw=3.)\n",
    "    title = 'Margin distribution for the {}'.format(title)\n",
    "    plt.title(title, fontsize=font_size)\n",
    "    plt.xticks(fontsize=font_size)\n",
    "    plt.yticks(fontsize=font_size)\n",
    "    plt.show()"
   ]
  },
  {
   "cell_type": "markdown",
   "metadata": {
    "tags": [
     "AST"
    ]
   },
   "source": [
    "### Problem 2.2 (Exam Style)"
   ]
  },
  {
   "cell_type": "markdown",
   "metadata": {
    "tags": [
     "AST"
    ]
   },
   "source": [
    "### Problem 2.3"
   ]
  },
  {
   "cell_type": "markdown",
   "metadata": {
    "tags": [
     "AST"
    ]
   },
   "source": [
    "### Problem 2.4 (Exam Style)"
   ]
  },
  {
   "cell_type": "markdown",
   "metadata": {
    "tags": [
     "AST"
    ]
   },
   "source": [
    "## Part 3: Multiclass Classifiers"
   ]
  },
  {
   "cell_type": "markdown",
   "metadata": {
    "tags": [
     "AST"
    ]
   },
   "source": [
    "### Problem 3.1 (Partially Exam Style)"
   ]
  }
 ],
 "metadata": {
  "kernelspec": {
   "display_name": "Python 3",
   "language": "python",
   "name": "python3"
  },
  "language_info": {
   "codemirror_mode": {
    "name": "ipython",
    "version": 3
   },
   "file_extension": ".py",
   "mimetype": "text/x-python",
   "name": "python",
   "nbconvert_exporter": "python",
   "pygments_lexer": "ipython3",
   "version": "3.8.5"
  },
  "pycharm": {
   "stem_cell": {
    "cell_type": "raw",
    "metadata": {
     "collapsed": false
    },
    "source": []
   }
  }
 },
 "nbformat": 4,
 "nbformat_minor": 2
}
